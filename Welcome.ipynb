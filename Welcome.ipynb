{
 "cells": [
  {
   "cell_type": "markdown",
   "metadata": {},
   "source": [
    "# Welcome to the Virtual Deep Learning Workshop\n",
    "## This notebook is an introduction to Jupyter Notebook"
   ]
  },
  {
   "cell_type": "markdown",
   "metadata": {},
   "source": [
    "### Each box like the one below is called a \"cell\". Click on a cell and hit shift+enter to run the python code in the cell.   <br /> Or click on the \"Cell\" tab at the top of the notebook and choose \"Run Cells\""
   ]
  },
  {
   "cell_type": "code",
   "execution_count": null,
   "metadata": {},
   "outputs": [],
   "source": [
    "print(\"Hello World\")"
   ]
  },
  {
   "cell_type": "markdown",
   "metadata": {},
   "source": [
    "### Each cell can be run individually, but variables persist between all cells "
   ]
  },
  {
   "cell_type": "code",
   "execution_count": null,
   "metadata": {},
   "outputs": [],
   "source": [
    "#Set a variable in this cell\n",
    "x = 5"
   ]
  },
  {
   "cell_type": "code",
   "execution_count": null,
   "metadata": {},
   "outputs": [],
   "source": [
    "#When running this cell x keeps its value from the previously ran cell\n",
    "print(x)"
   ]
  },
  {
   "cell_type": "code",
   "execution_count": null,
   "metadata": {},
   "outputs": [],
   "source": [
    "#You can write any python code in the cells\n",
    "#Running the cell multiple times will continue to update x\n",
    "#If you run any other cells afterward (even cells above) they will reflect the changes made in this cell \n",
    "x = x + 10\n",
    "print(x)"
   ]
  },
  {
   "cell_type": "markdown",
   "metadata": {},
   "source": [
    "### You can create a new cell below by hitting esc + b"
   ]
  },
  {
   "cell_type": "markdown",
   "metadata": {},
   "source": [
    "## To restart the notebook and clear all your variables, click the \"Kernel\" tab at the top of the notebook and choose \"Restart\". "
   ]
  },
  {
   "cell_type": "code",
   "execution_count": null,
   "metadata": {},
   "outputs": [],
   "source": [
    "#Restarting the notebook restarts the python process, so all the variables are cleared when the notebook is restarted\n",
    "#If you run this after restarting the notebook you should see \"NameError: name 'x' is not defined\"\n",
    "print(x)"
   ]
  },
  {
   "cell_type": "markdown",
   "metadata": {},
   "source": [
    "### To get your previous work back after restarting the notebook, you need to re-run all the notebooks to get back the work that you did "
   ]
  },
  {
   "cell_type": "code",
   "execution_count": null,
   "metadata": {},
   "outputs": [],
   "source": [
    "#If you re-run the cells starting from the beginning, x will be defined again\n",
    "print(x)"
   ]
  },
  {
   "cell_type": "markdown",
   "metadata": {},
   "source": [
    "### We will need to import python packages to run the workshop practicals.  <br /> Running the cell below will load in everything we will need as a test to make sure the environment is working"
   ]
  },
  {
   "cell_type": "code",
   "execution_count": null,
   "metadata": {},
   "outputs": [],
   "source": [
    "import os\n",
    "import sys\n",
    "import numpy as np\n",
    "import random\n",
    "\n",
    "from PIL    import Image\n",
    "from pprint import pprint\n",
    "\n",
    "import matplotlib.pyplot as plt\n",
    "%matplotlib inline\n",
    "import matplotlib\n",
    "# import seaborn \n",
    "\n",
    "from keras.applications import ResNet50\n",
    "from keras.applications.imagenet_utils import decode_predictions, preprocess_input\n",
    "from keras.datasets import cifar100, cifar10, mnist\n",
    "from keras.models import Model\n",
    "from keras.layers import Input, Dense, Conv2D, Dropout, MaxPool2D, Activation, Flatten, BatchNormalization, LSTM, Embedding\n",
    "from keras.optimizers import SGD, RMSprop, Adam, Nadam\n",
    "from keras.callbacks import ModelCheckpoint\n",
    "from keras.utils.np_utils import to_categorical\n",
    "from keras.utils.data_utils import get_file\n",
    "from keras.preprocessing.text import Tokenizer\n",
    "\n",
    "from collections import Counter\n",
    "\n",
    "from sklearn.metrics import classification_report"
   ]
  },
  {
   "cell_type": "markdown",
   "metadata": {},
   "source": [
    "### The above cell should output \"Using Tensorflow backend.\" "
   ]
  },
  {
   "cell_type": "markdown",
   "metadata": {},
   "source": [
    "## You’re all set; see you at the workshop!  \n"
   ]
  },
  {
   "cell_type": "markdown",
   "metadata": {},
   "source": [
    "<img src=\"workshop.gif\" width=\"350\" align=\"center\">"
   ]
  }
 ],
 "metadata": {
  "kernelspec": {
   "display_name": "Python [conda env:dl_workshop]",
   "language": "python",
   "name": "conda-env-dl_workshop-py"
  },
  "language_info": {
   "codemirror_mode": {
    "name": "ipython",
    "version": 3
   },
   "file_extension": ".py",
   "mimetype": "text/x-python",
   "name": "python",
   "nbconvert_exporter": "python",
   "pygments_lexer": "ipython3",
   "version": "3.6.8"
  }
 },
 "nbformat": 4,
 "nbformat_minor": 4
}
